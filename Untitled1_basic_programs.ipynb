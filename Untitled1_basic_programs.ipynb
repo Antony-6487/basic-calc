{
  "nbformat": 4,
  "nbformat_minor": 0,
  "metadata": {
    "colab": {
      "provenance": [],
      "authorship_tag": "ABX9TyPoQv/Yvy9vBeBXruGf4Avc",
      "include_colab_link": true
    },
    "kernelspec": {
      "name": "python3",
      "display_name": "Python 3"
    },
    "language_info": {
      "name": "python"
    }
  },
  "cells": [
    {
      "cell_type": "markdown",
      "metadata": {
        "id": "view-in-github",
        "colab_type": "text"
      },
      "source": [
        "<a href=\"https://colab.research.google.com/github/Antony-6487/basic-calc/blob/main/Untitled1_basic_programs.ipynb\" target=\"_parent\"><img src=\"https://colab.research.google.com/assets/colab-badge.svg\" alt=\"Open In Colab\"/></a>"
      ]
    },
    {
      "cell_type": "code",
      "execution_count": 8,
      "metadata": {
        "colab": {
          "base_uri": "https://localhost:8080/"
        },
        "id": "B411TwCF1Hze",
        "outputId": "ff730984-f78c-40ca-b28e-aaba93f02c62"
      },
      "outputs": [
        {
          "output_type": "stream",
          "name": "stdout",
          "text": [
            "  /  |\n",
            " /   |\n",
            "/___ |\n"
          ]
        }
      ],
      "source": [
        "print('  /  |')\n",
        "print(' /   |')\n",
        "print('/___ |')"
      ]
    },
    {
      "cell_type": "markdown",
      "source": [
        "making a basic calculator"
      ],
      "metadata": {
        "id": "maMUuchT5oHV"
      }
    },
    {
      "cell_type": "markdown",
      "source": [],
      "metadata": {
        "id": "56ryYOq05_hz"
      }
    },
    {
      "cell_type": "markdown",
      "source": [],
      "metadata": {
        "id": "khVcmdxM59Kk"
      }
    },
    {
      "cell_type": "code",
      "source": [
        "num1=float(input('enter the first number:'))\n",
        "op=input('enter the operator:')\n",
        "num2=float(input('enter the second number:'))\n",
        "if op==\"+\":\n",
        "    print(num1 + num2)\n",
        "elif op==\"-\":\n",
        "    print(num1-num2)\n",
        "elif op==('/'):\n",
        "    print(num1/num2)\n",
        "elif op==\"*\":\n",
        "    print(num1 * num2)\n",
        "else:\n",
        "  print('invalid operator')\n"
      ],
      "metadata": {
        "colab": {
          "base_uri": "https://localhost:8080/"
        },
        "id": "HqnVTBxI5vVJ",
        "outputId": "63ce60a9-4ded-4cd8-a3e5-dd596723bfb3"
      },
      "execution_count": 9,
      "outputs": [
        {
          "output_type": "stream",
          "name": "stdout",
          "text": [
            "enter the first number:67\n",
            "enter the operator:()\n",
            "enter the second number:23\n",
            "invalid operator\n"
          ]
        }
      ]
    },
    {
      "cell_type": "markdown",
      "source": [
        "dictionaries"
      ],
      "metadata": {
        "id": "KK0H-Ie2BAq8"
      }
    },
    {
      "cell_type": "code",
      "source": [
        "calendardictionary={\n",
        "    \"Jan\":\"January\",\n",
        "    \"Feb\":\"February\",\n",
        "    \"Mar\":\"March\",\n",
        "    \"Apr\":\"April\",\n",
        "    \"May\":\"May\",\n",
        "    \"Jun\":\"June\",\n",
        "    \"Jul\":\"July\",\n",
        "    \"Aug\":\"August\",\n",
        "    \"Sept\":\"September\",\n",
        "    \"Oct\":\"October\",\n",
        "    \"Nov\":\"November\",\n",
        "    \"Dec\":\"December\"\n",
        "}\n",
        "print(calendardictionary[\"Aug\"])\n",
        "print(calendardictionary.get(\"LOve\",\"Not a valid key\"))"
      ],
      "metadata": {
        "colab": {
          "base_uri": "https://localhost:8080/"
        },
        "id": "eyqSTuaxBEEQ",
        "outputId": "96267b8b-8c82-4921-cdfe-97f419c2a13a"
      },
      "execution_count": 12,
      "outputs": [
        {
          "output_type": "stream",
          "name": "stdout",
          "text": [
            "August\n",
            "Not a valid key\n"
          ]
        }
      ]
    }
  ]
}