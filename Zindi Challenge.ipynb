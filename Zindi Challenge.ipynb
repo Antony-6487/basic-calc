{
  "nbformat": 4,
  "nbformat_minor": 0,
  "metadata": {
    "colab": {
      "provenance": [],
      "authorship_tag": "ABX9TyMs6JCWlV/IjAhnC3ZKqHmB",
      "include_colab_link": true
    },
    "kernelspec": {
      "name": "python3",
      "display_name": "Python 3"
    },
    "language_info": {
      "name": "python"
    }
  },
  "cells": [
    {
      "cell_type": "markdown",
      "metadata": {
        "id": "view-in-github",
        "colab_type": "text"
      },
      "source": [
        "<a href=\"https://colab.research.google.com/github/Antony-6487/basic-calc/blob/main/Zindi%20Challenge.ipynb\" target=\"_parent\"><img src=\"https://colab.research.google.com/assets/colab-badge.svg\" alt=\"Open In Colab\"/></a>"
      ]
    },
    {
      "cell_type": "markdown",
      "source": [],
      "metadata": {
        "id": "XapJoCeGtCDP"
      }
    },
    {
      "cell_type": "markdown",
      "source": [
        "Financial inclusion remains one of the main obstacles to economic and human development in Africa. For example, across Kenya, Rwanda, Tanzania, and Uganda only 9.1 million adults (or 14% of adults) have access to or use a commercial bank account.\n",
        "\n",
        "Traditionally, access to bank accounts has been regarded as an indicator of financial inclusion. Despite the proliferation of mobile money in Africa, and the growth of innovative fintech solutions, banks still play a pivotal role in facilitating access to financial services. Access to bank accounts enable households to save and make payments while also helping businesses build up their credit-worthiness and improve their access to loans, insurance, and related services. Therefore, access to bank accounts is an essential contributor to long-term economic growth.\n",
        "\n",
        "The objective of this competition is to create a machine learning model to predict which individuals are most likely to have or use a bank account. The models and solutions developed can provide an indication of the state of financial inclusion in Kenya, Rwanda, Tanzania and Uganda, while providing insights into some of the key factors driving individuals’ financial security.\n",
        "\n",
        "Evaluation\n",
        "The evaluation metric for this challenge is Mean Absolute Error, where 1 indicates that the individual does have a bank account and 0 indicates that they do not.\n",
        "\n",
        "Your submission file should look like:\n",
        "\n",
        "unique_id                   bank_account\n",
        "uniqueid_1 x Kenya              1\n",
        "uniqueid_2 x Kenya              0\n",
        "uniqueid_3 x Kenya              1  "
      ],
      "metadata": {
        "id": "imq0A1iUrLRe"
      }
    },
    {
      "cell_type": "code",
      "execution_count": 61,
      "metadata": {
        "id": "hTK2gacNr6Nv",
        "colab": {
          "base_uri": "https://localhost:8080/"
        },
        "outputId": "157cc2cc-cf95-43de-e443-aa27f163e875"
      },
      "outputs": [
        {
          "output_type": "stream",
          "name": "stdout",
          "text": [
            "Validation MAE: 0.13560042507970244\n",
            "                uniqueid  bank_account\n",
            "0  uniqueid_6056 x Kenya             1\n",
            "1  uniqueid_6060 x Kenya             1\n",
            "2  uniqueid_6065 x Kenya             0\n",
            "3  uniqueid_6072 x Kenya             0\n",
            "4  uniqueid_6073 x Kenya             0\n"
          ]
        }
      ],
      "source": [
        "import pandas as pd\n",
        "from sklearn.model_selection import train_test_split\n",
        "from sklearn.preprocessing import OneHotEncoder\n",
        "from sklearn.compose import ColumnTransformer\n",
        "from sklearn.pipeline import Pipeline\n",
        "from sklearn.impute import SimpleImputer\n",
        "from sklearn.ensemble import RandomForestClassifier\n",
        "from sklearn.metrics import mean_absolute_error\n",
        "\n",
        "#Loading the data files\n",
        "train = pd.read_csv(\"Train (1).csv\")\n",
        "test = pd.read_csv(\"Test.csv\")\n",
        "sample = pd.read_csv(\"SampleSubmission.csv\")\n",
        "\n",
        "train[\"bank_account\"] = train[\"bank_account\"].map({\"Yes\": 1, \"No\": 0})\n",
        "id_col = \"uniqueid\"\n",
        "X = train.drop(columns=[\"bank_account\", id_col])\n",
        "y = train[\"bank_account\"]\n",
        "\n",
        "# Identify column types\n",
        "cat_cols = X.select_dtypes(include=[\"object\"]).columns.tolist()\n",
        "num_cols = X.select_dtypes(exclude=[\"object\"]).columns.tolist()\n",
        "\n",
        "#Preprocessing\n",
        "num_pipe = Pipeline([(\"imputer\", SimpleImputer(strategy=\"median\"))])\n",
        "cat_pipe = Pipeline([\n",
        "    (\"imputer\", SimpleImputer(strategy=\"most_frequent\")),\n",
        "    (\"encoder\", OneHotEncoder(handle_unknown=\"ignore\"))\n",
        "])\n",
        "\n",
        "preprocessor = ColumnTransformer([\n",
        "    (\"num\", num_pipe, num_cols),\n",
        "    (\"cat\", cat_pipe, cat_cols)\n",
        "])\n",
        "\n",
        "#the model pipeline\n",
        "model = Pipeline(steps=[\n",
        "  (\"preprocessor\", preprocessor),\n",
        "  (\"classifier\", RandomForestClassifier(n_estimators=300, random_state=42))])\n",
        "\n",
        "#Splitting the data into training and validation set\n",
        "X_train, X_valid, y_train, y_valid = train_test_split(\n",
        "    X, y, test_size=0.2, stratify=y, random_state=42\n",
        ")\n",
        "\n",
        "model.fit(X_train, y_train)\n",
        "\n",
        "#Evaluating\n",
        "y_pred = model.predict(X_valid)\n",
        "mae = mean_absolute_error(y_valid, y_pred)\n",
        "print(\"Validation MAE:\", mae)\n",
        "\n",
        "\n",
        "#PREDICTING ON UNSEEN DATASET\n",
        "X_test = test.drop(columns=[id_col])\n",
        "\n",
        "test_preds = model.predict(X_test)\n",
        "test[\"uniqueid_full\"] = test[\"uniqueid\"].astype(str) + \" x \" + test[\"country\"]\n",
        "\n",
        "submission = pd.DataFrame({\n",
        "    \"uniqueid\": test[\"uniqueid_full\"],\n",
        "    \"bank_account\": test_preds\n",
        "})\n",
        "\n",
        "submission[\"bank_account\"] = test_preds\n",
        "submission.to_csv(\"submission.csv\", index=False)\n",
        "print(submission.head())"
      ]
    },
    {
      "cell_type": "code",
      "source": [
        "from google.colab import files\n",
        "\n",
        "files.download(\"submission.csv\")"
      ],
      "metadata": {
        "colab": {
          "base_uri": "https://localhost:8080/",
          "height": 17
        },
        "id": "t5uVa8jkmXft",
        "outputId": "50cb8250-80d5-4dfd-ee85-4185bd864571"
      },
      "execution_count": 62,
      "outputs": [
        {
          "output_type": "display_data",
          "data": {
            "text/plain": [
              "<IPython.core.display.Javascript object>"
            ],
            "application/javascript": [
              "\n",
              "    async function download(id, filename, size) {\n",
              "      if (!google.colab.kernel.accessAllowed) {\n",
              "        return;\n",
              "      }\n",
              "      const div = document.createElement('div');\n",
              "      const label = document.createElement('label');\n",
              "      label.textContent = `Downloading \"${filename}\": `;\n",
              "      div.appendChild(label);\n",
              "      const progress = document.createElement('progress');\n",
              "      progress.max = size;\n",
              "      div.appendChild(progress);\n",
              "      document.body.appendChild(div);\n",
              "\n",
              "      const buffers = [];\n",
              "      let downloaded = 0;\n",
              "\n",
              "      const channel = await google.colab.kernel.comms.open(id);\n",
              "      // Send a message to notify the kernel that we're ready.\n",
              "      channel.send({})\n",
              "\n",
              "      for await (const message of channel.messages) {\n",
              "        // Send a message to notify the kernel that we're ready.\n",
              "        channel.send({})\n",
              "        if (message.buffers) {\n",
              "          for (const buffer of message.buffers) {\n",
              "            buffers.push(buffer);\n",
              "            downloaded += buffer.byteLength;\n",
              "            progress.value = downloaded;\n",
              "          }\n",
              "        }\n",
              "      }\n",
              "      const blob = new Blob(buffers, {type: 'application/binary'});\n",
              "      const a = document.createElement('a');\n",
              "      a.href = window.URL.createObjectURL(blob);\n",
              "      a.download = filename;\n",
              "      div.appendChild(a);\n",
              "      a.click();\n",
              "      div.remove();\n",
              "    }\n",
              "  "
            ]
          },
          "metadata": {}
        },
        {
          "output_type": "display_data",
          "data": {
            "text/plain": [
              "<IPython.core.display.Javascript object>"
            ],
            "application/javascript": [
              "download(\"download_a0276912-cafd-429d-a023-cd3a54421b68\", \"submission.csv\", 257730)"
            ]
          },
          "metadata": {}
        }
      ]
    }
  ]
}