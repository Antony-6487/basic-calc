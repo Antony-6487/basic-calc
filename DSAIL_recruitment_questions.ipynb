{
  "nbformat": 4,
  "nbformat_minor": 0,
  "metadata": {
    "colab": {
      "provenance": [],
      "authorship_tag": "ABX9TyO+9i90+l7jsyiGPDsk1ngs",
      "include_colab_link": true
    },
    "kernelspec": {
      "name": "python3",
      "display_name": "Python 3"
    },
    "language_info": {
      "name": "python"
    }
  },
  "cells": [
    {
      "cell_type": "markdown",
      "metadata": {
        "id": "view-in-github",
        "colab_type": "text"
      },
      "source": [
        "<a href=\"https://colab.research.google.com/github/Antony-6487/basic-calc/blob/main/DSAIL_recruitment_questions.ipynb\" target=\"_parent\"><img src=\"https://colab.research.google.com/assets/colab-badge.svg\" alt=\"Open In Colab\"/></a>"
      ]
    },
    {
      "cell_type": "code",
      "execution_count": 8,
      "metadata": {
        "colab": {
          "base_uri": "https://localhost:8080/"
        },
        "id": "B411TwCF1Hze",
        "outputId": "ff730984-f78c-40ca-b28e-aaba93f02c62"
      },
      "outputs": [
        {
          "output_type": "stream",
          "name": "stdout",
          "text": [
            "  /  |\n",
            " /   |\n",
            "/___ |\n"
          ]
        }
      ],
      "source": [
        "print('  /  |')\n",
        "print(' /   |')\n",
        "print('/___ |')"
      ]
    },
    {
      "cell_type": "markdown",
      "source": [
        "making a basic calculator"
      ],
      "metadata": {
        "id": "maMUuchT5oHV"
      }
    },
    {
      "cell_type": "markdown",
      "source": [],
      "metadata": {
        "id": "56ryYOq05_hz"
      }
    },
    {
      "cell_type": "markdown",
      "source": [],
      "metadata": {
        "id": "khVcmdxM59Kk"
      }
    },
    {
      "cell_type": "code",
      "source": [
        "num1=float(input('enter the first number:'))\n",
        "op=input('enter the operator:')\n",
        "num2=float(input('enter the second number:'))\n",
        "if op==\"+\":\n",
        "    print(num1 + num2)\n",
        "elif op==\"-\":\n",
        "    print(num1-num2)\n",
        "elif op==('/'):\n",
        "    print(num1/num2)\n",
        "elif op==\"*\":\n",
        "    print(num1 * num2)\n",
        "else:\n",
        "  print('invalid operator')\n"
      ],
      "metadata": {
        "colab": {
          "base_uri": "https://localhost:8080/"
        },
        "id": "HqnVTBxI5vVJ",
        "outputId": "63ce60a9-4ded-4cd8-a3e5-dd596723bfb3"
      },
      "execution_count": 9,
      "outputs": [
        {
          "output_type": "stream",
          "name": "stdout",
          "text": [
            "enter the first number:67\n",
            "enter the operator:()\n",
            "enter the second number:23\n",
            "invalid operator\n"
          ]
        }
      ]
    },
    {
      "cell_type": "markdown",
      "source": [
        "dictionaries"
      ],
      "metadata": {
        "id": "KK0H-Ie2BAq8"
      }
    },
    {
      "cell_type": "code",
      "source": [
        "calendardictionary={\n",
        "    \"Jan\":\"January\",\n",
        "    \"Feb\":\"February\",\n",
        "    \"Mar\":\"March\",\n",
        "    \"Apr\":\"April\",\n",
        "    \"May\":\"May\",\n",
        "    \"Jun\":\"June\",\n",
        "    \"Jul\":\"July\",\n",
        "    \"Aug\":\"August\",\n",
        "    \"Sept\":\"September\",\n",
        "    \"Oct\":\"October\",\n",
        "    \"Nov\":\"November\",\n",
        "    \"Dec\":\"December\"\n",
        "}\n",
        "print(calendardictionary[\"Aug\"])\n",
        "print(calendardictionary.get(\"LOve\",\"Not a valid key\"))"
      ],
      "metadata": {
        "colab": {
          "base_uri": "https://localhost:8080/"
        },
        "id": "eyqSTuaxBEEQ",
        "outputId": "96267b8b-8c82-4921-cdfe-97f419c2a13a"
      },
      "execution_count": 12,
      "outputs": [
        {
          "output_type": "stream",
          "name": "stdout",
          "text": [
            "August\n",
            "Not a valid key\n"
          ]
        }
      ]
    },
    {
      "cell_type": "markdown",
      "source": [
        " Consider the system of linear equations below\n",
        " x1 +2x2 +x3 = 8\n",
        " x2 +x3 = 5\n",
        " x1 +2x3 = 7\n",
        " Express these equations in matrix form and determine x1 x2 and x3 using python."
      ],
      "metadata": {
        "id": "AVA5lvEDQu1u"
      }
    },
    {
      "cell_type": "markdown",
      "source": [],
      "metadata": {
        "id": "mNTZ-IbHQtCn"
      }
    },
    {
      "cell_type": "code",
      "source": [
        "import numpy as np\n",
        "from scipy import linalg\n",
        "# x1 + 2x2 +x3= 8\n",
        "# x2 +x3= 5\n",
        "# x1 + 2x3 = 7\n",
        "a=np.array([[1, 2, 1],[0, 1, 1],[1, 0, 2]])\n",
        "print(a)\n",
        "b=np.array([[8],[5],[7]])\n",
        "print(b)\n",
        "answer=linalg.solve(a,b)\n",
        "print(answer)\n",
        "# or with x values clearly indicated\n",
        "print(\"x1=\", round(answer[0, 0], 3),\"x2=\", round(answer[0, 0], 3),\"x3=\", round(answer[0, 0], 3))"
      ],
      "metadata": {
        "colab": {
          "base_uri": "https://localhost:8080/"
        },
        "id": "J_zLn_OSQqTW",
        "outputId": "432ecb8f-a8e5-4783-f4f5-dc138433c5ff"
      },
      "execution_count": 8,
      "outputs": [
        {
          "output_type": "stream",
          "name": "stdout",
          "text": [
            "[[1 2 1]\n",
            " [0 1 1]\n",
            " [1 0 2]]\n",
            "[[8]\n",
            " [5]\n",
            " [7]]\n",
            "[[1.]\n",
            " [2.]\n",
            " [3.]]\n",
            "x1= 1.0 x2= 1.0 x3= 1.0\n"
          ]
        }
      ]
    }
  ]
}